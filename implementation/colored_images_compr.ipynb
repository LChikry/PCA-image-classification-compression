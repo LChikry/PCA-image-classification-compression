{
 "cells": [
  {
   "cell_type": "code",
   "execution_count": null,
   "metadata": {
    "id": "yk-WhmniuQ37"
   },
   "outputs": [],
   "source": [
    "!pip3 install numpy opencv-python matplotlib scikit-learn"
   ]
  },
  {
   "cell_type": "code",
   "execution_count": 11,
   "metadata": {
    "id": "nk6r7zhduQ39"
   },
   "outputs": [],
   "source": [
    "import os\n",
    "import cv2\n",
    "import numpy as np\n",
    "from matplotlib import pyplot as plt\n",
    "from sklearn.decomposition import PCA\n"
   ]
  },
  {
   "cell_type": "code",
   "execution_count": null,
   "metadata": {
    "colab": {
     "base_uri": "https://localhost:8080/"
    },
    "id": "Tp_joJYcuQ39",
    "outputId": "d6327951-58a0-43c2-94ef-bac1284a34ad"
   },
   "outputs": [
    {
     "data": {
      "text/plain": [
       "(3552, 5321, 3)"
      ]
     },
     "execution_count": 3,
     "metadata": {},
     "output_type": "execute_result"
    }
   ],
   "source": [
    "# Load the original image in RGB format\n",
    "img_path = '../assets/dog.jpg'\n",
    "org_img = cv2.cvtColor(cv2.imread(img_path), cv2.COLOR_BGR2RGB)\n",
    "org_img.shape"
   ]
  },
  {
   "cell_type": "code",
   "execution_count": 18,
   "metadata": {
    "colab": {
     "base_uri": "https://localhost:8080/"
    },
    "id": "fbMKTqu--dgV",
    "outputId": "462bc729-a391-4359-db8c-c52abfb68869"
   },
   "outputs": [
    {
     "name": "stdout",
     "output_type": "stream",
     "text": [
      "Original Size: 1183.70 KB\n",
      "Compressed Size: 669.74 KB\n",
      "Size is reduced by: 43.42%\n"
     ]
    }
   ],
   "source": [
    "#This method will result in a compressed color image without\n",
    "# any significant distortions (like the code you had where the image was \"aggressively compressed\").\n",
    "\n",
    "# Split the image into R, G, B channels\n",
    "r, g, b = cv2.split(org_img)\n",
    "\n",
    "# Set the number of principal components for PCA\n",
    "num_pc = 100  # Adjust based on testing to balance quality and compression\n",
    "\n",
    "# Apply PCA to each channel\n",
    "pca_r = PCA(n_components=num_pc)\n",
    "r_reduced = pca_r.fit_transform(r)\n",
    "r_reconstructed = pca_r.inverse_transform(r_reduced)\n",
    "\n",
    "pca_g = PCA(n_components=num_pc)\n",
    "g_reduced = pca_g.fit_transform(g)\n",
    "g_reconstructed = pca_g.inverse_transform(g_reduced)\n",
    "\n",
    "pca_b = PCA(n_components=num_pc)\n",
    "b_reduced = pca_b.fit_transform(b)\n",
    "b_reconstructed = pca_b.inverse_transform(b_reduced)\n",
    "\n",
    "# Clip values to ensure they are within the valid range [0, 255]\n",
    "r_reconstructed = np.clip(r_reconstructed, 0, 255).astype(np.uint8)\n",
    "g_reconstructed = np.clip(g_reconstructed, 0, 255).astype(np.uint8)\n",
    "b_reconstructed = np.clip(b_reconstructed, 0, 255).astype(np.uint8)\n",
    "\n",
    "# Merge the reconstructed channels back into an RGB image\n",
    "comp_img_rgb = cv2.merge([r_reconstructed, g_reconstructed, b_reconstructed])\n",
    "\n",
    "# Define the save path\n",
    "save_path = '../processed_images/dog_compressed_colored.jpg'\n",
    "\n",
    "# Save the compressed image with moderate JPEG quality\n",
    "cv2.imwrite(save_path, cv2.cvtColor(comp_img_rgb, cv2.COLOR_RGB2BGR), [int(cv2.IMWRITE_JPEG_QUALITY), 60])\n",
    "\n",
    "# Display sizes to compare\n",
    "original_size = os.path.getsize(img_path) / 1024  # Original size in KB\n",
    "compressed_size = os.path.getsize(save_path) / 1024  # Compressed size in KB\n",
    "print(f\"Original Size: {original_size:.2f} KB\")\n",
    "print(f\"Compressed Size: {compressed_size:.2f} KB\")\n",
    "print(f\"Size is reduced by: {(100-(compressed_size*100)/original_size):.2f}%\")\n"
   ]
  }
 ],
 "metadata": {
  "colab": {
   "provenance": []
  },
  "kernelspec": {
   "display_name": ".venv",
   "language": "python",
   "name": "python3"
  },
  "language_info": {
   "codemirror_mode": {
    "name": "ipython",
    "version": 3
   },
   "file_extension": ".py",
   "mimetype": "text/x-python",
   "name": "python",
   "nbconvert_exporter": "python",
   "pygments_lexer": "ipython3",
   "version": "3.12.5"
  }
 },
 "nbformat": 4,
 "nbformat_minor": 0
}
