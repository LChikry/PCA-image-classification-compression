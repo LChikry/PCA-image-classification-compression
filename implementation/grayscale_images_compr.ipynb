{
 "cells": [
  {
   "cell_type": "code",
   "execution_count": null,
   "metadata": {
    "id": "yk-WhmniuQ37"
   },
   "outputs": [],
   "source": [
    "!pip3 install numpy opencv-python matplotlib scikit-learn"
   ]
  },
  {
   "cell_type": "code",
   "execution_count": 11,
   "metadata": {
    "id": "nk6r7zhduQ39"
   },
   "outputs": [],
   "source": [
    "import os\n",
    "import cv2\n",
    "import numpy as np\n",
    "from matplotlib import pyplot as plt\n",
    "from sklearn.decomposition import PCA\n"
   ]
  },
  {
   "cell_type": "code",
   "execution_count": null,
   "metadata": {
    "colab": {
     "base_uri": "https://localhost:8080/"
    },
    "id": "Tp_joJYcuQ39",
    "outputId": "d6327951-58a0-43c2-94ef-bac1284a34ad"
   },
   "outputs": [
    {
     "data": {
      "text/plain": [
       "(3552, 5321, 3)"
      ]
     },
     "execution_count": 3,
     "metadata": {},
     "output_type": "execute_result"
    }
   ],
   "source": [
    "# Load the original image in RGB format\n",
    "img_path = '../assets/dog.jpg'\n",
    "org_img = cv2.cvtColor(cv2.imread(img_path), cv2.COLOR_BGR2RGB)\n",
    "org_img.shape"
   ]
  },
  {
   "cell_type": "code",
   "execution_count": null,
   "metadata": {
    "id": "PRYCLOMq8YBV"
   },
   "outputs": [
    {
     "name": "stdout",
     "output_type": "stream",
     "text": [
      "Original Size: 1183.70 KB\n",
      "Compressed Size: 661.73 KB\n",
      "Size is reduced by: 44.10%\n",
      "Compressed grayscale image saved at: ../processed_images/dog_compressed_grayscale.jpg\n"
     ]
    }
   ],
   "source": [
    "# in the following we are doing the following steps to achieve compression:\n",
    "#==1==converting the entire image to grayscale,\n",
    "#==2==applying PCA for dimensionality reduction,\n",
    "#==2==and then mapping it back to grayscale.\n",
    "\n",
    "# Convert the image to grayscale\n",
    "gray_img = cv2.cvtColor(org_img, cv2.COLOR_RGB2GRAY)\n",
    "\n",
    "# Set the number of principal components for PCA\n",
    "num_pc = 100  # Adjust based on testing to balance quality and compression\n",
    "\n",
    "# Apply PCA to the grayscale image\n",
    "pca = PCA(n_components=num_pc)\n",
    "gray_reduced = pca.fit_transform(gray_img)\n",
    "gray_reconstructed = pca.inverse_transform(gray_reduced)\n",
    "\n",
    "# Clip values to ensure they are within the valid range\n",
    "gray_reconstructed = np.clip(gray_reconstructed, 0, 255).astype(np.uint8)\n",
    "\n",
    "# Convert the grayscale image back to RGB format for saving\n",
    "comp_img_rgb = cv2.cvtColor(gray_reconstructed, cv2.COLOR_GRAY2RGB)\n",
    "\n",
    "# Define the save path\n",
    "save_path = '../processed_images/dog_compressed_grayscale.jpg'\n",
    "\n",
    "# Save the compressed image with moderate JPEG quality\n",
    "cv2.imwrite(save_path, comp_img_rgb, [int(cv2.IMWRITE_JPEG_QUALITY), 60])\n",
    "\n",
    "# Display sizes to compare\n",
    "original_size = os.path.getsize(img_path) / 1024  # Original size in KB\n",
    "compressed_size = os.path.getsize(save_path) / 1024  # Compressed size in KB\n",
    "print(f\"Original Size: {original_size:.2f} KB\")\n",
    "print(f\"Compressed Size: {compressed_size:.2f} KB\")\n",
    "print(f\"Size is reduced by: {(100-(compressed_size*100)/original_size):.2f}%\")\n"
   ]
  }
 ],
 "metadata": {
  "colab": {
   "provenance": []
  },
  "kernelspec": {
   "display_name": ".venv",
   "language": "python",
   "name": "python3"
  },
  "language_info": {
   "codemirror_mode": {
    "name": "ipython",
    "version": 3
   },
   "file_extension": ".py",
   "mimetype": "text/x-python",
   "name": "python",
   "nbconvert_exporter": "python",
   "pygments_lexer": "ipython3",
   "version": "3.12.5"
  }
 },
 "nbformat": 4,
 "nbformat_minor": 0
}
