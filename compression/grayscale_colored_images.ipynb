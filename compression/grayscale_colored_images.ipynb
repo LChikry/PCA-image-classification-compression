{
 "cells": [
  {
   "cell_type": "code",
   "execution_count": null,
   "metadata": {
    "id": "yk-WhmniuQ37"
   },
   "outputs": [
    {
     "name": "stdout",
     "output_type": "stream",
     "text": [
      "Collecting numpy\n",
      "  Using cached numpy-2.1.3-cp312-cp312-macosx_14_0_arm64.whl.metadata (62 kB)\n",
      "Collecting opencv-python\n",
      "  Using cached opencv_python-4.10.0.84-cp37-abi3-macosx_11_0_arm64.whl.metadata (20 kB)\n",
      "Collecting matplotlib\n",
      "  Using cached matplotlib-3.9.2-cp312-cp312-macosx_11_0_arm64.whl.metadata (11 kB)\n",
      "Collecting scikit-learn\n",
      "  Using cached scikit_learn-1.5.2-cp312-cp312-macosx_12_0_arm64.whl.metadata (13 kB)\n",
      "Collecting contourpy>=1.0.1 (from matplotlib)\n",
      "  Using cached contourpy-1.3.1-cp312-cp312-macosx_11_0_arm64.whl.metadata (5.4 kB)\n",
      "Collecting cycler>=0.10 (from matplotlib)\n",
      "  Using cached cycler-0.12.1-py3-none-any.whl.metadata (3.8 kB)\n",
      "Collecting fonttools>=4.22.0 (from matplotlib)\n",
      "  Using cached fonttools-4.55.0-cp312-cp312-macosx_10_13_universal2.whl.metadata (164 kB)\n",
      "Collecting kiwisolver>=1.3.1 (from matplotlib)\n",
      "  Using cached kiwisolver-1.4.7-cp312-cp312-macosx_11_0_arm64.whl.metadata (6.3 kB)\n",
      "Requirement already satisfied: packaging>=20.0 in /Users/houssinchikry/1SecondBrain/2_Areas/Programming_Projects/PCA-image-classification-compression/.venv/lib/python3.12/site-packages (from matplotlib) (24.2)\n",
      "Collecting pillow>=8 (from matplotlib)\n",
      "  Using cached pillow-11.0.0-cp312-cp312-macosx_11_0_arm64.whl.metadata (9.1 kB)\n",
      "Collecting pyparsing>=2.3.1 (from matplotlib)\n",
      "  Using cached pyparsing-3.2.0-py3-none-any.whl.metadata (5.0 kB)\n",
      "Requirement already satisfied: python-dateutil>=2.7 in /Users/houssinchikry/1SecondBrain/2_Areas/Programming_Projects/PCA-image-classification-compression/.venv/lib/python3.12/site-packages (from matplotlib) (2.9.0.post0)\n",
      "Collecting scipy>=1.6.0 (from scikit-learn)\n",
      "  Using cached scipy-1.14.1-cp312-cp312-macosx_14_0_arm64.whl.metadata (60 kB)\n",
      "Collecting joblib>=1.2.0 (from scikit-learn)\n",
      "  Using cached joblib-1.4.2-py3-none-any.whl.metadata (5.4 kB)\n",
      "Collecting threadpoolctl>=3.1.0 (from scikit-learn)\n",
      "  Using cached threadpoolctl-3.5.0-py3-none-any.whl.metadata (13 kB)\n",
      "Requirement already satisfied: six>=1.5 in /Users/houssinchikry/1SecondBrain/2_Areas/Programming_Projects/PCA-image-classification-compression/.venv/lib/python3.12/site-packages (from python-dateutil>=2.7->matplotlib) (1.16.0)\n",
      "Using cached numpy-2.1.3-cp312-cp312-macosx_14_0_arm64.whl (5.1 MB)\n",
      "Using cached opencv_python-4.10.0.84-cp37-abi3-macosx_11_0_arm64.whl (54.8 MB)\n",
      "Using cached matplotlib-3.9.2-cp312-cp312-macosx_11_0_arm64.whl (7.8 MB)\n",
      "Using cached scikit_learn-1.5.2-cp312-cp312-macosx_12_0_arm64.whl (11.0 MB)\n",
      "Using cached contourpy-1.3.1-cp312-cp312-macosx_11_0_arm64.whl (255 kB)\n",
      "Using cached cycler-0.12.1-py3-none-any.whl (8.3 kB)\n",
      "Using cached fonttools-4.55.0-cp312-cp312-macosx_10_13_universal2.whl (2.8 MB)\n",
      "Using cached joblib-1.4.2-py3-none-any.whl (301 kB)\n",
      "Using cached kiwisolver-1.4.7-cp312-cp312-macosx_11_0_arm64.whl (63 kB)\n",
      "Using cached pillow-11.0.0-cp312-cp312-macosx_11_0_arm64.whl (3.0 MB)\n",
      "Using cached pyparsing-3.2.0-py3-none-any.whl (106 kB)\n",
      "Using cached scipy-1.14.1-cp312-cp312-macosx_14_0_arm64.whl (23.1 MB)\n",
      "Using cached threadpoolctl-3.5.0-py3-none-any.whl (18 kB)\n",
      "Installing collected packages: threadpoolctl, pyparsing, pillow, numpy, kiwisolver, joblib, fonttools, cycler, scipy, opencv-python, contourpy, scikit-learn, matplotlib\n",
      "Successfully installed contourpy-1.3.1 cycler-0.12.1 fonttools-4.55.0 joblib-1.4.2 kiwisolver-1.4.7 matplotlib-3.9.2 numpy-2.1.3 opencv-python-4.10.0.84 pillow-11.0.0 pyparsing-3.2.0 scikit-learn-1.5.2 scipy-1.14.1 threadpoolctl-3.5.0\n"
     ]
    }
   ],
   "source": [
    "!pip3 install numpy opencv-python matplotlib scikit-learn"
   ]
  },
  {
   "cell_type": "code",
   "execution_count": 11,
   "metadata": {
    "id": "nk6r7zhduQ39"
   },
   "outputs": [],
   "source": [
    "import os\n",
    "import cv2\n",
    "import numpy as np\n",
    "from matplotlib import pyplot as plt\n",
    "from sklearn.decomposition import PCA\n"
   ]
  },
  {
   "cell_type": "code",
   "execution_count": null,
   "metadata": {
    "colab": {
     "base_uri": "https://localhost:8080/"
    },
    "id": "Tp_joJYcuQ39",
    "outputId": "d6327951-58a0-43c2-94ef-bac1284a34ad"
   },
   "outputs": [
    {
     "data": {
      "text/plain": [
       "(3552, 5321, 3)"
      ]
     },
     "execution_count": 3,
     "metadata": {},
     "output_type": "execute_result"
    }
   ],
   "source": [
    "# Load the original image in RGB format\n",
    "img_path = '../assets/dog.jpg'\n",
    "org_img = cv2.cvtColor(cv2.imread(img_path), cv2.COLOR_BGR2RGB)\n",
    "org_img.shape"
   ]
  },
  {
   "cell_type": "code",
   "execution_count": null,
   "metadata": {
    "id": "PRYCLOMq8YBV"
   },
   "outputs": [
    {
     "name": "stdout",
     "output_type": "stream",
     "text": [
      "Original Size: 1183.70 KB\n",
      "Compressed Size: 661.73 KB\n",
      "Size is reduced by: 44.10%\n",
      "Compressed grayscale image saved at: ../processed_images/dog_compressed_grayscale.jpg\n"
     ]
    }
   ],
   "source": [
    "# in the following we are doing the following steps to achieve compression:\n",
    "#==1==converting the entire image to grayscale,\n",
    "#==2==applying PCA for dimensionality reduction,\n",
    "#==2==and then mapping it back to grayscale.\n",
    "\n",
    "# Convert the image to grayscale\n",
    "gray_img = cv2.cvtColor(org_img, cv2.COLOR_RGB2GRAY)\n",
    "\n",
    "# Set the number of principal components for PCA\n",
    "num_pc = 100  # Adjust based on testing to balance quality and compression\n",
    "\n",
    "# Apply PCA to the grayscale image\n",
    "pca = PCA(n_components=num_pc)\n",
    "gray_reduced = pca.fit_transform(gray_img)\n",
    "gray_reconstructed = pca.inverse_transform(gray_reduced)\n",
    "\n",
    "# Clip values to ensure they are within the valid range\n",
    "gray_reconstructed = np.clip(gray_reconstructed, 0, 255).astype(np.uint8)\n",
    "\n",
    "# Convert the grayscale image back to RGB format for saving\n",
    "comp_img_rgb = cv2.cvtColor(gray_reconstructed, cv2.COLOR_GRAY2RGB)\n",
    "\n",
    "# Define the save path\n",
    "save_path = '../processed_images/dog_compressed_grayscale.jpg'\n",
    "\n",
    "# Save the compressed image with moderate JPEG quality\n",
    "cv2.imwrite(save_path, comp_img_rgb, [int(cv2.IMWRITE_JPEG_QUALITY), 60])\n",
    "\n",
    "# Display sizes to compare\n",
    "original_size = os.path.getsize(img_path) / 1024  # Original size in KB\n",
    "compressed_size = os.path.getsize(save_path) / 1024  # Compressed size in KB\n",
    "print(f\"Original Size: {original_size:.2f} KB\")\n",
    "print(f\"Compressed Size: {compressed_size:.2f} KB\")\n",
    "print(f\"Size is reduced by: {(100-(compressed_size*100)/original_size):.2f}%\")\n"
   ]
  },
  {
   "cell_type": "code",
   "execution_count": 18,
   "metadata": {
    "colab": {
     "base_uri": "https://localhost:8080/"
    },
    "id": "fbMKTqu--dgV",
    "outputId": "462bc729-a391-4359-db8c-c52abfb68869"
   },
   "outputs": [
    {
     "name": "stdout",
     "output_type": "stream",
     "text": [
      "Original Size: 1183.70 KB\n",
      "Compressed Size: 669.74 KB\n",
      "Size is reduced by: 43.42%\n"
     ]
    }
   ],
   "source": [
    "#This method will result in a compressed color image without\n",
    "# any significant distortions (like the code you had where the image was \"aggressively compressed\").\n",
    "\n",
    "# Split the image into R, G, B channels\n",
    "r, g, b = cv2.split(org_img)\n",
    "\n",
    "# Set the number of principal components for PCA\n",
    "num_pc = 100  # Adjust based on testing to balance quality and compression\n",
    "\n",
    "# Apply PCA to each channel\n",
    "pca_r = PCA(n_components=num_pc)\n",
    "r_reduced = pca_r.fit_transform(r)\n",
    "r_reconstructed = pca_r.inverse_transform(r_reduced)\n",
    "\n",
    "pca_g = PCA(n_components=num_pc)\n",
    "g_reduced = pca_g.fit_transform(g)\n",
    "g_reconstructed = pca_g.inverse_transform(g_reduced)\n",
    "\n",
    "pca_b = PCA(n_components=num_pc)\n",
    "b_reduced = pca_b.fit_transform(b)\n",
    "b_reconstructed = pca_b.inverse_transform(b_reduced)\n",
    "\n",
    "# Clip values to ensure they are within the valid range [0, 255]\n",
    "r_reconstructed = np.clip(r_reconstructed, 0, 255).astype(np.uint8)\n",
    "g_reconstructed = np.clip(g_reconstructed, 0, 255).astype(np.uint8)\n",
    "b_reconstructed = np.clip(b_reconstructed, 0, 255).astype(np.uint8)\n",
    "\n",
    "# Merge the reconstructed channels back into an RGB image\n",
    "comp_img_rgb = cv2.merge([r_reconstructed, g_reconstructed, b_reconstructed])\n",
    "\n",
    "# Define the save path\n",
    "save_path = '../processed_images/dog_compressed_colored.jpg'\n",
    "\n",
    "# Save the compressed image with moderate JPEG quality\n",
    "cv2.imwrite(save_path, cv2.cvtColor(comp_img_rgb, cv2.COLOR_RGB2BGR), [int(cv2.IMWRITE_JPEG_QUALITY), 60])\n",
    "\n",
    "# Display sizes to compare\n",
    "original_size = os.path.getsize(img_path) / 1024  # Original size in KB\n",
    "compressed_size = os.path.getsize(save_path) / 1024  # Compressed size in KB\n",
    "print(f\"Original Size: {original_size:.2f} KB\")\n",
    "print(f\"Compressed Size: {compressed_size:.2f} KB\")\n",
    "print(f\"Size is reduced by: {(100-(compressed_size*100)/original_size):.2f}%\")\n"
   ]
  },
  {
   "cell_type": "code",
   "execution_count": null,
   "metadata": {
    "id": "IVz2LJMk-eId"
   },
   "outputs": [],
   "source": []
  }
 ],
 "metadata": {
  "colab": {
   "provenance": []
  },
  "kernelspec": {
   "display_name": ".venv",
   "language": "python",
   "name": "python3"
  },
  "language_info": {
   "codemirror_mode": {
    "name": "ipython",
    "version": 3
   },
   "file_extension": ".py",
   "mimetype": "text/x-python",
   "name": "python",
   "nbconvert_exporter": "python",
   "pygments_lexer": "ipython3",
   "version": "3.12.5"
  }
 },
 "nbformat": 4,
 "nbformat_minor": 0
}
